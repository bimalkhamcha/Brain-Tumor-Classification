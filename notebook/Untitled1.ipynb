{
 "cells": [
  {
   "cell_type": "code",
   "execution_count": 1,
   "id": "fd1e079e",
   "metadata": {},
   "outputs": [
    {
     "name": "stderr",
     "output_type": "stream",
     "text": [
      "C:\\Users\\Asus\\anaconda3\\envs\\venv\\lib\\site-packages\\scipy\\__init__.py:146: UserWarning: A NumPy version >=1.16.5 and <1.23.0 is required for this version of SciPy (detected version 1.26.3\n",
      "  warnings.warn(f\"A NumPy version >={np_minversion} and <{np_maxversion}\"\n"
     ]
    },
    {
     "name": "stdout",
     "output_type": "stream",
     "text": [
      "WARNING:tensorflow:From C:\\Users\\Asus\\anaconda3\\envs\\venv\\lib\\site-packages\\keras\\src\\losses.py:2976: The name tf.losses.sparse_softmax_cross_entropy is deprecated. Please use tf.compat.v1.losses.sparse_softmax_cross_entropy instead.\n",
      "\n"
     ]
    }
   ],
   "source": [
    "from tensorflow.keras.preprocessing.image import ImageDataGenerator"
   ]
  },
  {
   "cell_type": "code",
   "execution_count": null,
   "id": "80e7ddaf",
   "metadata": {},
   "outputs": [],
   "source": [
    "from keras.preprocessing.image import ImageDataGenerator, array_to_img, img_to_array, load_img\n",
    "import matplotlib.pyplot as plt\n",
    "\n",
    "# Example image path\n",
    "image_path = 'path/to/your/image.jpg'\n",
    "\n",
    "# Load image\n",
    "img = load_img(image_path)\n",
    "\n",
    "# Convert image to numpy array\n",
    "img_array = img_to_array(img)\n",
    "\n",
    "# Reshape the image array to (1, height, width, channels) as required by ImageDataGenerator\n",
    "img_array = img_array.reshape((1,) + img_array.shape)\n",
    "\n",
    "# Initialize ImageDataGenerator with desired transformations\n",
    "datagen = ImageDataGenerator(\n",
    "    rotation_range=40,\n",
    "    width_shift_range=0.2,\n",
    "    height_shift_range=0.2,\n",
    "    shear_range=0.2,\n",
    "    zoom_range=0.2,\n",
    "    horizontal_flip=True,\n",
    "    fill_mode='nearest'\n",
    ")\n",
    "\n",
    "# Generate augmented images\n",
    "num_augmented_images = 3  # Set the number of augmented images you want to generate\n",
    "for i, batch in enumerate(datagen.flow(img_array, batch_size=1)):\n",
    "    if i >= num_augmented_images:\n",
    "        break\n",
    "    \n",
    "    augmented_img = array_to_img(batch[0])\n",
    "    \n",
    "    # Display augmented image (optional, for visualization purposes)\n",
    "    plt.figure()\n",
    "    plt.imshow(augmented_img)\n",
    "    plt.show()\n",
    "\n",
    "    # Save augmented image to disk (optional)\n",
    "    augmented_img.save(f'path/to/save/augmented_image_{i}.jpg')\n"
   ]
  },
  {
   "cell_type": "code",
   "execution_count": null,
   "id": "8d64d915",
   "metadata": {},
   "outputs": [],
   "source": []
  }
 ],
 "metadata": {
  "kernelspec": {
   "display_name": "Python 3 (ipykernel)",
   "language": "python",
   "name": "python3"
  },
  "language_info": {
   "codemirror_mode": {
    "name": "ipython",
    "version": 3
   },
   "file_extension": ".py",
   "mimetype": "text/x-python",
   "name": "python",
   "nbconvert_exporter": "python",
   "pygments_lexer": "ipython3",
   "version": "3.9.12"
  }
 },
 "nbformat": 4,
 "nbformat_minor": 5
}
