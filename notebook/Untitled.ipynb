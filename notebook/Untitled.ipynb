{
 "cells": [
  {
   "cell_type": "code",
   "execution_count": null,
   "id": "09dcf5fa",
   "metadata": {},
   "outputs": [],
   "source": [
    "def train_df(tr_path):\n",
    "    classes = []\n",
    "    class_paths = []\n",
    "    files = os.listdir(tr_path)\n",
    "    for file in files:\n",
    "        label_dir = os.path.join(tr_path, file)\n",
    "        label = os.listdir(label_dir)\n",
    "        for image in label:\n",
    "            image_path = os.path.join(label_dir, image)\n",
    "            class_paths.append(image_path)\n",
    "            classes.append(file)\n",
    "    image_classes = pd.Series(classes, name='Class')\n",
    "    image_paths = pd.Series(class_paths, name='Class Path')\n",
    "    tr_df = pd.concat([image_paths, image_classes], axis=1)\n",
    "    return tr_df"
   ]
  },
  {
   "cell_type": "code",
   "execution_count": 19,
   "id": "9cda19f5",
   "metadata": {},
   "outputs": [],
   "source": [
    "import os\n",
    "import pandas as pd"
   ]
  },
  {
   "cell_type": "code",
   "execution_count": 21,
   "id": "45b92206",
   "metadata": {},
   "outputs": [],
   "source": [
    "classes = []\n",
    "class_paths = []\n",
    "files = os.listdir('Training')\n",
    "\n",
    "#print(files)\n",
    "# ['glioma', 'meningioma', 'notumor', 'pituitary']\n",
    "\n",
    "for file in files:\n",
    "    label_dir = os.path.join(\"Training\", file) # file path like : Training\\glioma    \n",
    "    label = os.listdir(label_dir) # list of file inside each dir -> here are images on each dir\n",
    "\n",
    "    for image in label:\n",
    "        image_path = os.path.join(label_dir, image) #Training\\glioma\\Tr-glTr_0000.jpg\n",
    "        class_paths.append(image_path)\n",
    "        classes.append(file)\n",
    "    image_classes = pd.Series(classes, name = \"Class\")\n",
    "    image_paths = pd.Series(class_paths, name=\"Class Path\")\n",
    "    tr_df = pd.concat([image_paths, image_classes], axis=1)"
   ]
  },
  {
   "cell_type": "code",
   "execution_count": null,
   "id": "86e29169",
   "metadata": {},
   "outputs": [],
   "source": [
    "batch_size = 16\n",
    "img_size = (299,299)\n",
    "\n",
    "tr_gen = ImageDataGenerator(brightness_range=(.8,1.2))\n",
    "\n",
    "gen = ImageDataGenerator()\n",
    "\n",
    "\n",
    "tr_gen = tr_gen.flow_from_dataframe(tr_df, x_col='Class Path',\n",
    "                                 y_col='Class',batch_size=batch_size,\n",
    "                                 target_size=img_size)\n",
    "\n",
    "valid_gen = gen.flow_from_dataframe(valid_df, x_col='Class Path',\n",
    "                                    y_col='Class',batch_size=batch_size,\n",
    "                                    target_size=img_size)\n",
    "\n",
    "ts_gen = gen.flow_from_dataframe(ts_df, x_col='Class Path',\n",
    "                                y_col='Class',batch_size=batch_size,\n",
    "                                 target_size=img_size,shuffle=False)"
   ]
  },
  {
   "cell_type": "markdown",
   "id": "75099512",
   "metadata": {},
   "source": [
    "<code> ImageDataGenerator(brightness_range=(.8,1.2)) </code>\n",
    "\n",
    "This means that during training, the brightness of each image will be randomly adjusted, and the resulting brightness will be a value between 80% and 120% of the original brightness.\n",
    "\n",
    "This kind of augmentation is often useful in training deep learning models to improve the model's ability to generalize to different lighting conditions. It helps to make the model more robust by exposing it to variations in brightness that it might encounter in real-world scenarios."
   ]
  },
  {
   "cell_type": "code",
   "execution_count": null,
   "id": "32234299",
   "metadata": {},
   "outputs": [],
   "source": []
  }
 ],
 "metadata": {
  "kernelspec": {
   "display_name": "Python 3 (ipykernel)",
   "language": "python",
   "name": "python3"
  },
  "language_info": {
   "codemirror_mode": {
    "name": "ipython",
    "version": 3
   },
   "file_extension": ".py",
   "mimetype": "text/x-python",
   "name": "python",
   "nbconvert_exporter": "python",
   "pygments_lexer": "ipython3",
   "version": "3.9.12"
  }
 },
 "nbformat": 4,
 "nbformat_minor": 5
}
